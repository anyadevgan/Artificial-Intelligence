{
  "nbformat": 4,
  "nbformat_minor": 0,
  "metadata": {
    "colab": {
      "name": "hw5 (1).ipynb",
      "provenance": [],
      "collapsed_sections": []
    },
    "kernelspec": {
      "display_name": "Python 3",
      "name": "python3"
    }
  },
  "cells": [
    {
      "cell_type": "markdown",
      "metadata": {
        "id": "a9QL6EeahA8M"
      },
      "source": [
        "# COMS 4701 Summer 2021: Homework 5\n",
        "\n",
        "**Instructions**: Solve all problems and type up your solutions in this notebook. Each solution should appear in a new cell immediately following the given problem. Written problems should include work and steps in addition to the answers; $\\LaTeX$ is highly recommended, but plaintext is also acceptable if it is understandable. You are highly encouraged to read through the accompanying tutorial first if you are new to $\\LaTeX$. Coding solutions should be free of errors, and outputs should be left in the notebook for submission.\n",
        "\n",
        "All submitted work must be your own. Cases of academic dishonesty will be addressed following the policies outlined on the [course syllabus](https://courseworks2.columbia.edu/courses/131236)."
      ]
    },
    {
      "cell_type": "markdown",
      "metadata": {
        "id": "FjXceRyIqAff"
      },
      "source": [
        "In this assignment you will use the [pgmpy](http://pgmpy.org/) library to study Bayesian networks and perform inference on them. The library provides the infrastructure to create or import many well-known networks in the [bnlearn](https://www.bnlearn.com/bnrepository/) repository. Specifically, we will be looking at the ALARM [model](https://www.bnlearn.com/documentation/man/alarm.html), which describes an alarm message system for patient monitoring.\n",
        "\n",
        "First upload the provided `alarm.bif` file, which is a specialized file format that contains all the necessary information of the Bayesian network. Then run the following cell to locally install pgmpy and import the network."
      ]
    },
    {
      "cell_type": "code",
      "metadata": {
        "id": "GTzjPNiVkt0X",
        "colab": {
          "base_uri": "https://localhost:8080/"
        },
        "outputId": "d4bef349-7ee5-441d-86f9-97f43cfd82f4"
      },
      "source": [
        "!pip install pgmpy\n",
        "from pgmpy.readwrite import BIFReader\n",
        "reader = BIFReader('alarm.bif')\n",
        "alarm_model = reader.get_model()\n",
        "print(alarm_model.nodes())"
      ],
      "execution_count": 2,
      "outputs": [
        {
          "output_type": "stream",
          "text": [
            "Collecting pgmpy\n",
            "\u001b[?25l  Downloading https://files.pythonhosted.org/packages/a3/0e/d9fadbfaa35e010c04d43acd3ae9fbefec98897dd7d61a6b7eb5a8b34072/pgmpy-0.1.14-py3-none-any.whl (331kB)\n",
            "\r\u001b[K     |█                               | 10kB 14.6MB/s eta 0:00:01\r\u001b[K     |██                              | 20kB 10.7MB/s eta 0:00:01\r\u001b[K     |███                             | 30kB 9.2MB/s eta 0:00:01\r\u001b[K     |████                            | 40kB 8.6MB/s eta 0:00:01\r\u001b[K     |█████                           | 51kB 4.9MB/s eta 0:00:01\r\u001b[K     |██████                          | 61kB 5.5MB/s eta 0:00:01\r\u001b[K     |███████                         | 71kB 5.8MB/s eta 0:00:01\r\u001b[K     |████████                        | 81kB 6.2MB/s eta 0:00:01\r\u001b[K     |█████████                       | 92kB 6.0MB/s eta 0:00:01\r\u001b[K     |█████████▉                      | 102kB 5.1MB/s eta 0:00:01\r\u001b[K     |██████████▉                     | 112kB 5.1MB/s eta 0:00:01\r\u001b[K     |███████████▉                    | 122kB 5.1MB/s eta 0:00:01\r\u001b[K     |████████████▉                   | 133kB 5.1MB/s eta 0:00:01\r\u001b[K     |█████████████▉                  | 143kB 5.1MB/s eta 0:00:01\r\u001b[K     |██████████████▉                 | 153kB 5.1MB/s eta 0:00:01\r\u001b[K     |███████████████▉                | 163kB 5.1MB/s eta 0:00:01\r\u001b[K     |████████████████▉               | 174kB 5.1MB/s eta 0:00:01\r\u001b[K     |█████████████████▉              | 184kB 5.1MB/s eta 0:00:01\r\u001b[K     |██████████████████▉             | 194kB 5.1MB/s eta 0:00:01\r\u001b[K     |███████████████████▊            | 204kB 5.1MB/s eta 0:00:01\r\u001b[K     |████████████████████▊           | 215kB 5.1MB/s eta 0:00:01\r\u001b[K     |█████████████████████▊          | 225kB 5.1MB/s eta 0:00:01\r\u001b[K     |██████████████████████▊         | 235kB 5.1MB/s eta 0:00:01\r\u001b[K     |███████████████████████▊        | 245kB 5.1MB/s eta 0:00:01\r\u001b[K     |████████████████████████▊       | 256kB 5.1MB/s eta 0:00:01\r\u001b[K     |█████████████████████████▊      | 266kB 5.1MB/s eta 0:00:01\r\u001b[K     |██████████████████████████▊     | 276kB 5.1MB/s eta 0:00:01\r\u001b[K     |███████████████████████████▊    | 286kB 5.1MB/s eta 0:00:01\r\u001b[K     |████████████████████████████▊   | 296kB 5.1MB/s eta 0:00:01\r\u001b[K     |█████████████████████████████▋  | 307kB 5.1MB/s eta 0:00:01\r\u001b[K     |██████████████████████████████▋ | 317kB 5.1MB/s eta 0:00:01\r\u001b[K     |███████████████████████████████▋| 327kB 5.1MB/s eta 0:00:01\r\u001b[K     |████████████████████████████████| 337kB 5.1MB/s \n",
            "\u001b[?25hRequirement already satisfied: pyparsing in /usr/local/lib/python3.7/dist-packages (from pgmpy) (2.4.7)\n",
            "Requirement already satisfied: joblib in /usr/local/lib/python3.7/dist-packages (from pgmpy) (1.0.1)\n",
            "Requirement already satisfied: numpy in /usr/local/lib/python3.7/dist-packages (from pgmpy) (1.19.5)\n",
            "Requirement already satisfied: tqdm in /usr/local/lib/python3.7/dist-packages (from pgmpy) (4.41.1)\n",
            "Requirement already satisfied: scikit-learn in /usr/local/lib/python3.7/dist-packages (from pgmpy) (0.22.2.post1)\n",
            "Requirement already satisfied: torch in /usr/local/lib/python3.7/dist-packages (from pgmpy) (1.9.0+cu102)\n",
            "Requirement already satisfied: statsmodels in /usr/local/lib/python3.7/dist-packages (from pgmpy) (0.10.2)\n",
            "Requirement already satisfied: scipy in /usr/local/lib/python3.7/dist-packages (from pgmpy) (1.4.1)\n",
            "Requirement already satisfied: networkx in /usr/local/lib/python3.7/dist-packages (from pgmpy) (2.5.1)\n",
            "Requirement already satisfied: pandas in /usr/local/lib/python3.7/dist-packages (from pgmpy) (1.1.5)\n",
            "Requirement already satisfied: typing-extensions in /usr/local/lib/python3.7/dist-packages (from torch->pgmpy) (3.7.4.3)\n",
            "Requirement already satisfied: patsy>=0.4.0 in /usr/local/lib/python3.7/dist-packages (from statsmodels->pgmpy) (0.5.1)\n",
            "Requirement already satisfied: decorator<5,>=4.3 in /usr/local/lib/python3.7/dist-packages (from networkx->pgmpy) (4.4.2)\n",
            "Requirement already satisfied: pytz>=2017.2 in /usr/local/lib/python3.7/dist-packages (from pandas->pgmpy) (2018.9)\n",
            "Requirement already satisfied: python-dateutil>=2.7.3 in /usr/local/lib/python3.7/dist-packages (from pandas->pgmpy) (2.8.1)\n",
            "Requirement already satisfied: six in /usr/local/lib/python3.7/dist-packages (from patsy>=0.4.0->statsmodels->pgmpy) (1.15.0)\n",
            "Installing collected packages: pgmpy\n",
            "Successfully installed pgmpy-0.1.14\n",
            "['HISTORY', 'CVP', 'PCWP', 'HYPOVOLEMIA', 'LVEDVOLUME', 'LVFAILURE', 'STROKEVOLUME', 'ERRLOWOUTPUT', 'HRBP', 'HREKG', 'ERRCAUTER', 'HRSAT', 'INSUFFANESTH', 'ANAPHYLAXIS', 'TPR', 'EXPCO2', 'KINKEDTUBE', 'MINVOL', 'FIO2', 'PVSAT', 'SAO2', 'PAP', 'PULMEMBOLUS', 'SHUNT', 'INTUBATION', 'PRESS', 'DISCONNECT', 'MINVOLSET', 'VENTMACH', 'VENTTUBE', 'VENTLUNG', 'VENTALV', 'ARTCO2', 'CATECHOL', 'HR', 'CO', 'BP']\n"
          ],
          "name": "stdout"
        }
      ]
    },
    {
      "cell_type": "markdown",
      "metadata": {
        "id": "J3ZeHCT6Hpgz"
      },
      "source": [
        "You are encouraged, but not required, to use any of the functionalities of pgmpy for the first two problems below. The names of nodes in the network can be seen in the output of the code above. The mappings between these names and their abbreviated versions in the graphic below (as well as their domain values) are explained in the [manual](https://www.bnlearn.com/documentation/man/alarm.html).\n",
        "\n",
        "![alarm.png](data:image/png;base64,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)"
      ]
    },
    {
      "cell_type": "markdown",
      "metadata": {
        "id": "fgG6RtLX4W-K"
      },
      "source": [
        "# Problem 1: Independence (20 points)\n",
        "\n",
        "pgmpy contains several functions for testing independences, which are demonstrated in \"Step 4\" of this [notebook](https://github.com/pgmpy/pgmpy/blob/dev/examples/Creating%20a%20Discrete%20Bayesian%20Network.ipynb). Again, you have the option of using these functions, though it is not required to do so. Answer the following questions about the independence properties of the alarm network. In your answers, use the abbreviated node names from the graphic. If you write any code, please leave all commands and outputs that you use in the code cell below your responses.\n",
        "\n",
        "1. Name all variables that are independent of `BP` (at bottom) given no observed evidence in the Bayes net. Briefly explain your answer.\n",
        "2. List all variable pairs (X, Y) for which \"X is conditionally independent of all other variables in the Bayes net, given Y\". For example, (MVS, VMCH) is such a pair.\n",
        "3.  Suppose `CCHL` is observed (to the right and below of the graphic center). Separate all of the nodes of the network (**except for `BP`**) into two groups such that every node in group 1 is conditionally independent of every node in group 2. Instead of writing out two long lists, you may also verbally describe them using graph terminology (e.g., parents, ancestors, descendants), but be sure to be as precise as possible.\n",
        "4.  Explain why, when `CCHL` is observed, `BP` retains its dependencies to all other nodes except for those you found in part 1. What happens to the conditional independences between the two groups in part 3 if `BP` is now observed in addition to `CCHL`?\n"
      ]
    },
    {
      "cell_type": "markdown",
      "metadata": {
        "id": "6utq7i8c5Dz9"
      },
      "source": [
        "ENTER YOUR RESPONSES HERE\n",
        "\n",
        "1.  Using a combination of common effect and common cause, you can determine that ERCA & BP are independent and ERLO & BP are independent. \n",
        "\n",
        "2.  All variable pairs: \n",
        "(MVS, VMCH), (PCWP, LVV), (PAP, PMB), (APL, TPR), (HIST, LVF), (CVP, LVV)\n",
        "\n",
        "3.  Group 1: all descendants of CCHL, LVF and all its descendants, HYP and all its descendants, ERCA and all its descendants, ERLO and all its descendants (all excluding BP) & Group 2: all ancestors of CCHL.\n",
        "\n",
        "4.  When CCHL is observed, BP still maintains its dependencies with those nodes found in part 1 because BP is connected as a sibling and descendant of CCHL. If BP is observed in addition to CCHL, the two groups loose their conditional independence because TPR and CO would no longer be independent."
      ]
    },
    {
      "cell_type": "code",
      "metadata": {
        "id": "eEWz2UdAJmEu"
      },
      "source": [
        "# ENTER ANY CODE YOU USE TO HELP ANSWER THE ABOVE QUESTIONS HERE\n"
      ],
      "execution_count": 3,
      "outputs": []
    },
    {
      "cell_type": "markdown",
      "metadata": {
        "id": "Sx_Kq1nYaRqz"
      },
      "source": [
        "In addition to its structure, the Bayes net model also specifies the parameters (probabilities). These conditional probability distributions, or CPDs, are stored as tables. Each column corresponds to the CPD of the variable of interest given a combination of its parents' values. \n",
        "\n",
        "For example, take the first table in the output below, the CPD for $HR$. The first column is the distribution $\\Pr(HR \\mid CCHL=normal)$ (which sums to 1). The first row is the \"distribution\" $\\Pr(HR=low \\mid CCHL)$ (which does not sum to 1).\n",
        "\n",
        "The tables in the lower right corner of the network can be accessed as follows (you will be using all these tables in the following problem):"
      ]
    },
    {
      "cell_type": "code",
      "metadata": {
        "id": "Q4jEGqGD4Wca",
        "colab": {
          "base_uri": "https://localhost:8080/"
        },
        "outputId": "b89ebcaf-a618-4b31-8171-58abfe6ad392"
      },
      "source": [
        "print(alarm_model.get_cpds('HR'))\n",
        "print(\"\")\n",
        "print(alarm_model.get_cpds('ERRCAUTER'))\n",
        "print(\"\")\n",
        "print(alarm_model.get_cpds('HRSAT'))\n",
        "print(\"\")\n",
        "print(alarm_model.get_cpds('HREKG'))"
      ],
      "execution_count": 4,
      "outputs": [
        {
          "output_type": "stream",
          "text": [
            "+------------+------------------+----------------+\n",
            "| CATECHOL   | CATECHOL(NORMAL) | CATECHOL(HIGH) |\n",
            "+------------+------------------+----------------+\n",
            "| HR(LOW)    | 0.05             | 0.01           |\n",
            "+------------+------------------+----------------+\n",
            "| HR(NORMAL) | 0.9              | 0.09           |\n",
            "+------------+------------------+----------------+\n",
            "| HR(HIGH)   | 0.05             | 0.9            |\n",
            "+------------+------------------+----------------+\n",
            "\n",
            "+------------------+-----+\n",
            "| ERRCAUTER(TRUE)  | 0.1 |\n",
            "+------------------+-----+\n",
            "| ERRCAUTER(FALSE) | 0.9 |\n",
            "+------------------+-----+\n",
            "\n",
            "+---------------+-----------------+-----------------+-----------------+------------------+------------------+------------------+\n",
            "| ERRCAUTER     | ERRCAUTER(TRUE) | ERRCAUTER(TRUE) | ERRCAUTER(TRUE) | ERRCAUTER(FALSE) | ERRCAUTER(FALSE) | ERRCAUTER(FALSE) |\n",
            "+---------------+-----------------+-----------------+-----------------+------------------+------------------+------------------+\n",
            "| HR            | HR(LOW)         | HR(NORMAL)      | HR(HIGH)        | HR(LOW)          | HR(NORMAL)       | HR(HIGH)         |\n",
            "+---------------+-----------------+-----------------+-----------------+------------------+------------------+------------------+\n",
            "| HRSAT(LOW)    | 0.3333333       | 0.3333333       | 0.01            | 0.3333333        | 0.98             | 0.01             |\n",
            "+---------------+-----------------+-----------------+-----------------+------------------+------------------+------------------+\n",
            "| HRSAT(NORMAL) | 0.3333333       | 0.3333333       | 0.98            | 0.3333333        | 0.01             | 0.01             |\n",
            "+---------------+-----------------+-----------------+-----------------+------------------+------------------+------------------+\n",
            "| HRSAT(HIGH)   | 0.3333333       | 0.3333333       | 0.01            | 0.3333333        | 0.01             | 0.98             |\n",
            "+---------------+-----------------+-----------------+-----------------+------------------+------------------+------------------+\n",
            "\n",
            "+---------------+-----------------+-----------------+-----------------+------------------+------------------+------------------+\n",
            "| ERRCAUTER     | ERRCAUTER(TRUE) | ERRCAUTER(TRUE) | ERRCAUTER(TRUE) | ERRCAUTER(FALSE) | ERRCAUTER(FALSE) | ERRCAUTER(FALSE) |\n",
            "+---------------+-----------------+-----------------+-----------------+------------------+------------------+------------------+\n",
            "| HR            | HR(LOW)         | HR(NORMAL)      | HR(HIGH)        | HR(LOW)          | HR(NORMAL)       | HR(HIGH)         |\n",
            "+---------------+-----------------+-----------------+-----------------+------------------+------------------+------------------+\n",
            "| HREKG(LOW)    | 0.3333333       | 0.3333333       | 0.01            | 0.3333333        | 0.98             | 0.01             |\n",
            "+---------------+-----------------+-----------------+-----------------+------------------+------------------+------------------+\n",
            "| HREKG(NORMAL) | 0.3333333       | 0.3333333       | 0.98            | 0.3333333        | 0.01             | 0.01             |\n",
            "+---------------+-----------------+-----------------+-----------------+------------------+------------------+------------------+\n",
            "| HREKG(HIGH)   | 0.3333333       | 0.3333333       | 0.01            | 0.3333333        | 0.01             | 0.98             |\n",
            "+---------------+-----------------+-----------------+-----------------+------------------+------------------+------------------+\n"
          ],
          "name": "stdout"
        }
      ]
    },
    {
      "cell_type": "code",
      "metadata": {
        "id": "pJYgIr3cyQPF",
        "colab": {
          "base_uri": "https://localhost:8080/"
        },
        "outputId": "378afaee-826d-4de0-891b-1daadc79ae8e"
      },
      "source": [
        "from google.colab import drive\n",
        "drive.mount('/content/drive')"
      ],
      "execution_count": 5,
      "outputs": [
        {
          "output_type": "stream",
          "text": [
            "Mounted at /content/drive\n"
          ],
          "name": "stdout"
        }
      ]
    },
    {
      "cell_type": "markdown",
      "metadata": {
        "id": "i354pvxqbjdx"
      },
      "source": [
        "# Problem 2: Exact Inference (30 points)\n",
        "\n",
        "For these questions, write the analytical expression for each of the queries in terms of the CPD parameters. Then use the parameters from the model to compute the requested distribution. (Note that pgmpy does contain functionality for performing inference, as shown in Section 4 of this [notebook](https://github.com/pgmpy/pgmpy_notebook/blob/master/notebooks/2.%20Bayesian%20Networks.ipynb). While you can use this to check your solution, we are looking for the correct analytical expressions used to derive it.)\n",
        "\n",
        "**Note**: Please be precise with RV notation. Upper-case RVs should only refer to the queried distribution, while lower-case RVs should refer to either observed RVs or dummy RVs being summed over.\n",
        "\n",
        "1.   Compute the distribution $\\Pr(HRSA \\mid CCHL = normal)$. For compactness, you can write $\\Pr(HRSA \\mid cchl)$.\n",
        "2.   Compute the distribution $\\Pr(HRSA \\mid CCHL = normal, HREK = normal)$. For compactness, you can write $\\Pr(HRSA \\mid cchl, hrek)$.\n",
        "3.   Compute the distribution $\\Pr(HR \\mid CCHL = normal, HRSA = normal, HREK = normal)$. For compactness, you can write $\\Pr(HR \\mid cchl, hrsa, hrek)$."
      ]
    },
    {
      "cell_type": "markdown",
      "metadata": {
        "id": "_KnyNNqMdNY3"
      },
      "source": [
        "ENTER YOUR SOLUTIONS HERE\n",
        "\n",
        "1. $$Pr(HRSA | cchl) \\propto Pr(HRSA, cchl) = \\sum_{erca, hr} Pr(HRSA, cchl, erca, hr)$$\n",
        "$$ = \\sum_{erca, hr} Pr(HRSA|cchl, erca, hr) Pr(hr|cchl, erca) Pr(cchl|erca)Pr(erca)$$ \n",
        "$$ = \\sum_{erca, hr} Pr(HRSA|erca, hr) Pr(hr|cchl) Pr(erca)$$\n",
        "$$ = \\begin{bmatrix}\n",
        "0.841\\\\\n",
        "0.060\\\\\n",
        "0.099\n",
        "\\end{bmatrix}$$\n",
        "\n",
        "2. $$ Pr(HRSA|cchl, hrek) \\propto Pr(HRSA,cchl, hrek) = \\sum_{erca, hr} Pr(HRSA, cchl, erca, hr, hrek)$$\n",
        "$$ = \\sum_{erca, hr} Pr(HRSA|cchl, erca, hr, hrek) Pr(hrek|cchl, erca,hr) Pr(hr|cchl, erca) Pr(cchl|erca) Pr(erca)$$ \n",
        "$$ = \\sum_{erca, hr} Pr(HRSA|erca, hr) Pr(hrek|erca, hr) Pr(hr|cchl)Pr(erca)$$\n",
        "$$ = \\begin{bmatrix}\n",
        "0.392\\\\\n",
        "0.340\\\\\n",
        "0.268\n",
        "\\end{bmatrix}$$\n",
        "\n",
        "3. $$ Pr(HR|cchl, hrsa, hrek) \\propto Pr(HR, cchl, hrek, hrsa) = \\sum_{erca} Pr(HR|cchl, hrsa, hrek, erca) Pr(hrek|cchl, erca) Pr(hrsa|erca) Pr(erca) $$ \\\\\n",
        " Markov blanket: $Pr(HR|cchl, hrsa, hrek) \\propto Pr(HR, hrsa,cchl, hrek) = Pr(HR|CCHL)Pr(CCHL|TPR, SAO2, ACO2, ANES)Pr(HRSA| ERCA, HR)Pr(HREK|HR, ERCA)$ \\\\\n",
        "$Pr(HR|cchl, hrsa, hrek) \\propto Pr(HR,cchl, hrsa, hrek) = Pr(HR|CCHL)Pr(cchl)Pr(hrsa)Pr(hrek)$ "
      ]
    },
    {
      "cell_type": "markdown",
      "metadata": {
        "id": "F4cLW3cNdi0P"
      },
      "source": [
        "# Sampling Algorithms\n",
        "\n",
        "While exact inference will always get us the right values, the amount of computation increases dramatically for larger Bayesian networks. Approximate inference via sampling is an alternative method. The ```prior_sample``` function below generates a sample for a pgmpy Bayes net in the manner of prior sampling. It samples values one node at a time, assuming that nodes are ordered such that no node occurs before its parents. We also define a ```prob_given_parents``` utility function to interface with the underlying pgmpy CPD structures.\n",
        "\n",
        "(pgmpy also contains built-in sampling algorithms, but we will not be using them.)"
      ]
    },
    {
      "cell_type": "code",
      "metadata": {
        "id": "5tOqGcixPuK2"
      },
      "source": [
        "import numpy.random as npr\n",
        "\n",
        "def prior_sample(model, nodes):\n",
        "  \"\"\"\n",
        "  Generates and returns a single sample as a {variable: value} dictionary\n",
        "  \"\"\"\n",
        "  sample = {}\n",
        "  for n in nodes:\n",
        "    cpd = model.get_cpds(n)\n",
        "    values = (cpd.state_names)[n]\n",
        "    probs = prob_given_parents(cpd, sample)\n",
        "    sample[n] = npr.choice(values, p=probs/sum(probs))\n",
        "  return sample\n",
        "\n",
        "\n",
        "def prob_given_parents(cpd, sample):\n",
        "  \"\"\"\n",
        "  Returns probability distribution of the node to which cpd corresponds, \n",
        "  conditioned on its parents' values in sample\n",
        "  \"\"\"\n",
        "  factors = cpd.variables\n",
        "  states = cpd.state_names \n",
        "\n",
        "  col = 0\n",
        "  skip = 1\n",
        "  for i in range(len(factors)-1):\n",
        "    parent_var = factors[-i-1]\n",
        "    parent_val = sample[parent_var]\n",
        "    ind = states[parent_var].index(parent_val)\n",
        "    col += ind*skip\n",
        "    skip *= len(states[parent_var])\n",
        "\n",
        "  return (cpd.get_values())[:,col]  "
      ],
      "execution_count": 6,
      "outputs": []
    },
    {
      "cell_type": "markdown",
      "metadata": {
        "id": "xlCYKFE9sGsB"
      },
      "source": [
        "## Coding 1 (15 points)\n",
        "\n",
        "Prior sampling does not take into account evidence variables, so we can implement a rejection sampling function that uses ```prior_sample```, followed by a check for consistency with provided evidence. The function below takes in the problem ```model``` and list of ```nodes``` (to be passed into ```prior_sample```), a query variable, the number of samples to attempt, and a dictionary of evidence variables and values. The estimated distribution of the query variable (also a dictionary) and the number of consistent samples generated should then be returned."
      ]
    },
    {
      "cell_type": "code",
      "metadata": {
        "id": "v9xboynqNm9E"
      },
      "source": [
        "def rejection_sample(model, nodes, N, query, evidence={}):\n",
        "  \"\"\"\n",
        "  INPUTS: Problem model, nodes, total number of samples to try (including \n",
        "  inconsistent ones), query variable, and a {variable: value} evidence dict\n",
        "  OUTPUTS: dist, a dictionary providing the estimated distribution for query\n",
        "           num_consistent, number of consistent samples generated\n",
        "  \"\"\"\n",
        "  dist = {val:0 for val in model.get_cpds(query).state_names[query]}\n",
        "\n",
        "  # YOUR CODE HERE\n",
        "  num_consistent = 0\n",
        "  consistent_check = True\n",
        "  for i in range(1,N):\n",
        "    x = prior_sample(model, nodes)\n",
        "    consistent_check = True\n",
        "    for key in evidence:\n",
        "      if x[key] != evidence[key]:\n",
        "        consistent_check = False\n",
        "    if consistent_check == True:\n",
        "      num_consistent = num_consistent + 1\n",
        "      x_val = x[query]\n",
        "      dist[x_val] = dist[x_val] + 1\n",
        "  normalize = sum(dist.values())\n",
        "  for j, values in dist.items():\n",
        "    dist[j] = dist[j]/normalize\n",
        "\n",
        "  return dist, num_consistent\n",
        "  \n"
      ],
      "execution_count": 7,
      "outputs": []
    },
    {
      "cell_type": "code",
      "metadata": {
        "id": "A1lG2jFEypre",
        "colab": {
          "base_uri": "https://localhost:8080/"
        },
        "outputId": "82e8e92b-8f05-4a3f-e709-a33c2a7395e8"
      },
      "source": [
        "NODES = ['MINVOLSET', 'VENTMACH', 'DISCONNECT', 'VENTTUBE', 'KINKEDTUBE', \n",
        "         'INTUBATION', 'PULMEMBOLUS', 'PAP', 'SHUNT', 'VENTLUNG', 'PRESS', \n",
        "         'FIO2', 'MINVOL', 'VENTALV', 'PVSAT', 'ARTCO2', 'SAO2', 'EXPCO2', \n",
        "         'ANAPHYLAXIS', 'TPR', 'INSUFFANESTH', 'CATECHOL', 'LVFAILURE', \n",
        "         'HYPOVOLEMIA', 'HISTORY', 'LVEDVOLUME', 'ERRLOWOUTPUT', 'STROKEVOLUME', \n",
        "         'HR', 'ERRCAUTER', 'CVP', 'PCWP', 'HRBP', 'CO', 'HRSAT', 'HREKG', 'BP']\n",
        "\n",
        "dist, num_samples = rejection_sample(alarm_model, NODES, 20000, 'HRSAT', evidence={'CATECHOL': 'NORMAL'})\n",
        "print(\"Heart rate and oxygen saturation given that catecholamine is normal: \", dist)\n",
        "print(\"Number of consistent samples: \", num_samples)\n",
        "\n",
        "dist, num_samples = rejection_sample(alarm_model, NODES, 20000, 'HRSAT', evidence={'CATECHOL': 'NORMAL', 'HREKG': 'NORMAL'})\n",
        "print(\"Heart rate and oxygen saturation given that catecholamine and EKG monitor signal are normal: \", dist)\n",
        "print(\"Number of consistent samples: \", num_samples)"
      ],
      "execution_count": 8,
      "outputs": [
        {
          "output_type": "stream",
          "text": [
            "Heart rate and oxygen saturation given that catecholamine is normal:  {'LOW': 0.8450980392156863, 'NORMAL': 0.054901960784313725, 'HIGH': 0.1}\n",
            "Number of consistent samples:  2040\n",
            "Heart rate and oxygen saturation given that catecholamine and EKG monitor signal are normal:  {'LOW': 0.4117647058823529, 'NORMAL': 0.3235294117647059, 'HIGH': 0.2647058823529412}\n",
            "Number of consistent samples:  136\n"
          ],
          "name": "stdout"
        }
      ]
    },
    {
      "cell_type": "markdown",
      "metadata": {
        "id": "CRWjAsg13y3s"
      },
      "source": [
        "## Response 1 (10 points)\n",
        "\n",
        "Running the above cell will estimate some of the distributions you computed above by requesting 20000 samples. One query has one evidence variable, while the other has two. \n",
        "\n",
        "1.  For the two queries above, which distribution estimate is generally closer to the true distribution? How is this related to the number of consistent samples, and why are these numbers so different for the two queries?\n",
        "\n",
        "2.  Consider the fraction of consistent samples for each query (that is, number of consistent samples divided by total number of samples requested). What likelihoods do these fractions correspond to from the alarm model?"
      ]
    },
    {
      "cell_type": "markdown",
      "metadata": {
        "id": "SNvg5RmsF5q6"
      },
      "source": [
        "ENTER YOUR RESPONSES HERE\n",
        "\n",
        "1. The query with one evidence (the first query) has a distribution estimate that is closer to the true distribution. This is because the first query only has one evidence variable, while the other has two. Generally, we expect the fraction of samples consistent with the evidence to drop exponentially as the number of evidence variables grows. Since the second query has two evidence variabes, the less amount of consistent samples are found. However, the greater number of consistent samples, the closer the distribution estimate is to the true distribution. Thus, since query two has two variables and a smaller amount of consistent samples, the average will vary more. \n",
        "\n",
        "2. These fractions correspond to the likelihood of the sample having the provided evidence variable(s). For query one, the fraction corresponds to the likelihood of the sample having 'CATECHOL': 'NORMAL'. For query two, the fraction corresponds to the likelihood of the sample having 'CATECHOL': 'NORMAL', 'HREKG': 'NORMAL'."
      ]
    },
    {
      "cell_type": "markdown",
      "metadata": {
        "id": "HLL6gpl7PjcX"
      },
      "source": [
        "## Coding 2 (15 points)\n",
        "\n",
        "Rejection sampling can end up rejecting a large number of samples, wasting effort. Another sampling method is likelihood weighting, which guarantees that every sample is consistent and associates with each a weight. In the cell below we've partially implemented ```weighted_sample```, which generates a sample consistent with ```evidence```, along with the corresponding weight for that sample.\n",
        "\n",
        "First complete ```weighted_sample``` to correctly update the weight ```w``` whenever an evidence variable is assigned to a sample.\n",
        "\n",
        "Then complete ```likelihood_weighting```, which should be very similar to ```rejection_sample``` but without the consistency check. It should compute and return a distribution for ```query``` based on the weights returned by ```weighted_sample```."
      ]
    },
    {
      "cell_type": "code",
      "metadata": {
        "id": "ZE70dPaO42K0"
      },
      "source": [
        "def weighted_sample(model, nodes, evidence):\n",
        "  \"\"\"\n",
        "  Generate a sample consistent with evidence, along with corresponding weight\n",
        "  \"\"\"\n",
        "  w = 1\n",
        "  sample = {}\n",
        "  for n in nodes:\n",
        "    cpd = model.get_cpds(n)\n",
        "    values = (cpd.state_names)[n]\n",
        "    if n in evidence:\n",
        "      # YOUR CODE HERE\n",
        "      sample[n] = evidence[n]\n",
        "      w = w * prob_given_parents(cpd, sample)[values.index(evidence[n])]\n",
        "    else:\n",
        "      probs = prob_given_parents(cpd, sample)\n",
        "      sample[n] = npr.choice(values, p=probs/sum(probs))\n",
        "  return sample, w\n",
        "\n",
        "\n",
        "def likelihood_weighting(model, nodes, N, query, evidence={}):\n",
        "  \"\"\"\n",
        "  INPUTS: Problem model, nodes, query variable, number of samples, \n",
        "          and a {variable: value} evidence dict\n",
        "  OUTPUT: dist, a dictionary providing the estimated distribution for query\n",
        "  \"\"\"\n",
        "  dist = {val:0 for val in model.get_cpds(query).state_names[query]}\n",
        "\n",
        "  # YOUR CODE HERE\n",
        "  for i in range(1,N):\n",
        "    sample, weight = weighted_sample(model, nodes, evidence)\n",
        "    x_val = sample[query]\n",
        "    dist[x_val] = dist[x_val] + weight\n",
        "  normalize = 1.0/sum(dist.values())\n",
        "  for j, values in dist.items():\n",
        "    dist[j] = dist[j]*normalize\n",
        "\n",
        "  return dist\n"
      ],
      "execution_count": 9,
      "outputs": []
    },
    {
      "cell_type": "code",
      "metadata": {
        "id": "QDXQ70_wmrFT",
        "colab": {
          "base_uri": "https://localhost:8080/"
        },
        "outputId": "3728953f-09f9-46b0-bb8a-8668aa5d8266"
      },
      "source": [
        "# CHANGE THE NUMBER OF SAMPLES IN THESE QUERIES\n",
        "dist = likelihood_weighting(alarm_model, NODES, 20000, 'HRSAT', evidence={'CATECHOL': 'NORMAL', 'HREKG': 'NORMAL'})\n",
        "print(\"Heart rate and oxygen saturation given that catecholamine and EKG monitor signal are normal: \", dist)\n",
        "\n",
        "dist = likelihood_weighting(alarm_model, NODES, 20000, 'HR', evidence={'CATECHOL': 'NORMAL', 'HRSAT': 'NORMAL', 'HREKG': 'NORMAL'})\n",
        "print(\"Heart rate given that catecholamine, heart rate and saturation, and EKG monitor signal are normal: \", dist)"
      ],
      "execution_count": 11,
      "outputs": [
        {
          "output_type": "stream",
          "text": [
            "Heart rate and oxygen saturation given that catecholamine and EKG monitor signal are normal:  {'LOW': 0.4111441488553691, 'NORMAL': 0.3133394840977446, 'HIGH': 0.2755163670468864}\n",
            "Heart rate given that catecholamine, heart rate and saturation, and EKG monitor signal are normal:  {'LOW': 0.2508346581673759, 'NORMAL': 0.49062012626256074, 'HIGH': 0.25854521557006327}\n"
          ],
          "name": "stdout"
        }
      ]
    },
    {
      "cell_type": "markdown",
      "metadata": {
        "id": "DeMZsH4qJX7y"
      },
      "source": [
        "## Response 2 (10 points)\n",
        "\n",
        "1.  To estimate the second distribution from Response 1, we again request 20000 samples. However, you can try a smaller number of samples. What is the smallest number of samples to be sufficient for the estimate to be reasonably close (e.g., within about 5%) of the true distribution (show the code output above)? Comment on the efficiency of samples needed for likelihood weighting vs rejection sampling.\n",
        "\n",
        "2.  Now try running the second query, which corresponds to the third distribution from Problem 2. Use the same number of minmal samples that you used for the first query. Do you find that the distribution estimate is better, worse, or about as accurate as that of the first query? Briefly explain."
      ]
    },
    {
      "cell_type": "markdown",
      "metadata": {
        "id": "1rLDwMME_9W8"
      },
      "source": [
        "ENTER YOUR RESPONSES HERE\n",
        "\n",
        "1. The smallest number of samples to be sufficient for the estimate to be reasonbly close is 2500. For likelihood weighting, as shown in the weighted_sample function, the algorithm fixes the values for the evidence variables E and samples all the nonevidence variables in topological order, each conditioned on its parents. In likelihood weighting, the specified number of samples are sampled. Conversely, rejection sampling generates samples from the prior distribution specified by the network, and then it rejects all those that do not match the evidence. Thus, not all samples are used. Because likelihood weighting uses all the samples generated, it can be much more efficient that rejection sampling. Likelihood weighting will require less samples to have a distribution close to the true distribution. \n",
        "\n",
        "2.  The distribution estimate is about as accurate as that of the first query. Again, this is due to the fact that that, for likelihood weighting, the number of samples is fixed and they are sampling the same number of samples. Recall that likelihood weighting works by sampling the nonevidence nodes of the network in topological order, weighting each sample by the likelihood it accords to the observed evidence variables."
      ]
    }
  ]
}